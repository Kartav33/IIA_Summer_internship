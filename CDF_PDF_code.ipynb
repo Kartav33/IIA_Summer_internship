{
 "cells": [
  {
   "attachments": {},
   "cell_type": "markdown",
   "metadata": {},
   "source": [
    "Importing the necessary libraries"
   ]
  },
  {
   "cell_type": "code",
   "execution_count": null,
   "metadata": {},
   "outputs": [],
   "source": [
    "import pandas as pd\n",
    "import numpy as np\n",
    "from matplotlib import pyplot as plt\n",
    "from scipy.interpolate import make_interp_spline\n",
    "from numpy.polynomial import Polynomial\n",
    "from scipy.optimize import curve_fit\n",
    "import sympy as sp"
   ]
  },
  {
   "attachments": {},
   "cell_type": "markdown",
   "metadata": {},
   "source": [
    "Reading the excel sheet "
   ]
  },
  {
   "cell_type": "code",
   "execution_count": null,
   "metadata": {},
   "outputs": [],
   "source": [
    "data=pd.read_csv(\"10G_lndem_3D_16km_data.csv\") #path to the csv file\n",
    "df=pd.DataFrame(data)\n",
    "print(df)"
   ]
  },
  {
   "attachments": {},
   "cell_type": "markdown",
   "metadata": {},
   "source": [
    "Exporting the excel sheet data into different lists"
   ]
  },
  {
   "cell_type": "code",
   "execution_count": null,
   "metadata": {},
   "outputs": [],
   "source": [
    "# when Height in Mm crosses the required height, i.e., the index after which you can see an approximate monotonically decreasing feature\n",
    "id=0 \n",
    "for item in df.loc[:,\"Height (Mm)\"]:\n",
    "    if item > 10:\n",
    "        break\n",
    "    id+=1\n",
    "\n",
    "H_ind=df.loc[id:,\"Height[i]\"]\n",
    "H_Mm=df.loc[id:,\"Height (Mm)\"]\n",
    "nspic=df.loc[id:,\"Spicules\"]\n",
    "\n",
    "print(H_Mm) #Verifying whether it started at just H Mm or not; H can be customised acoordingly by changing the value in the loop from 10 to something else\n",
    "print(len(H_ind))\n",
    "print(id)"
   ]
  },
  {
   "attachments": {},
   "cell_type": "markdown",
   "metadata": {},
   "source": [
    "Plotting the curve followed by the data and the bar graph"
   ]
  },
  {
   "cell_type": "code",
   "execution_count": null,
   "metadata": {},
   "outputs": [],
   "source": [
    "plt.bar(H_Mm,nspic)\n",
    "plt.scatter(H_Mm,nspic,label='data points')\n",
    "#plt.xlim(150,675)\n",
    "\n",
    "p=np.array(H_Mm)\n",
    "q=np.array(nspic)\n",
    "X_Y_Spline= make_interp_spline(p,q)\n",
    "X_ =np.linspace(p.min(),p.max(),500)\n",
    "Y_ =X_Y_Spline(X_)\n",
    "\n",
    "plt.plot(X_,Y_,color='red')\n",
    "plt.legend()\n",
    "\n",
    "plt.show()"
   ]
  },
  {
   "attachments": {},
   "cell_type": "markdown",
   "metadata": {},
   "source": [
    "Now, finding the exact form of the polynomial equation followed by the exported data and plotting it together with the data and Printing the exact form of the curve"
   ]
  },
  {
   "cell_type": "code",
   "execution_count": null,
   "metadata": {},
   "outputs": [],
   "source": [
    "def fractional_polynomial(log_x, *coefficients):\n",
    "    equation = sum(coeff * (log_x ** power) for power, coeff in enumerate(coefficients))\n",
    "    return equation\n",
    "\n",
    "# Generate some sample data\n",
    "x_data = H_Mm[:-1] \n",
    "y_data = nspic[:-1] \n",
    "\n",
    "# Apply logarithmic transformation\n",
    "log_x_data = np.log(x_data)\n",
    "log_y_data = np.log(y_data)\n",
    "\n",
    "# Specify the number of parameters\n",
    "num_params = 4  # Adjust based on the expected number of coefficients\n",
    "\n",
    "# Fit the data to the logarithmic form of the fractional polynomial function\n",
    "coefficients, _ = curve_fit(fractional_polynomial, log_x_data, log_y_data, maxfev=10000, p0=[1] * num_params)\n",
    "\n",
    "# Create a symbolic variable for log(x)\n",
    "x = sp.symbols('x')\n",
    "\n",
    "# Generate the equation using sympy\n",
    "equation = sum(coeff * (x ** power) for power, coeff in enumerate(np.round(coefficients,2)))\n",
    "equation = sp.expand(equation)  # Expand the equation for better readability\n",
    "\n",
    "# Print the equation in a clear form\n",
    "equation_str = sp.latex(equation)\n",
    "print(\"Equation:\", equation_str)\n",
    "\n",
    "# Plot the original data points and the fitted curve in logarithmic form\n",
    "plt.scatter(log_x_data, log_y_data, label='Original Data')\n",
    "plt.plot(log_x_data, fractional_polynomial(log_x_data, *coefficients), 'r-', label='Fitted Curve')\n",
    "plt.xlabel('log(x) (Height in Mm)')\n",
    "plt.ylabel('log(y) No of spicules')\n",
    "plt.legend()\n",
    "plt.title('No. of spicules greater than a certain height (CDF_Complement)')\n",
    "plt.show()\n"
   ]
  },
  {
   "attachments": {},
   "cell_type": "markdown",
   "metadata": {},
   "source": [
    "Now changing the distribution by imposing the condition that number of spicules less than a certain height rather than more than a certain height, in order ot find the real CDF "
   ]
  },
  {
   "cell_type": "code",
   "execution_count": null,
   "metadata": {},
   "outputs": [],
   "source": [
    "L_nspic=[]\n",
    "\n",
    "for i in range(id, len(df.loc[:,\"Height[i]\"])):\n",
    "    nspic_l=nspic[id]-nspic[i]\n",
    "    L_nspic.append(nspic_l)\n",
    "    \n",
    "print(L_nspic)"
   ]
  },
  {
   "cell_type": "code",
   "execution_count": null,
   "metadata": {},
   "outputs": [],
   "source": [
    "H_norm=[]\n",
    "H_min=np.min(H_Mm)\n",
    "H_max=np.max(H_Mm)\n",
    "for i in range(id, len(df.loc[:,\"Height[i]\"])):\n",
    "    normal_height=(H_Mm[i]-H_min)/(H_max-H_min)\n",
    "    H_norm.append(normal_height)\n",
    "\n",
    "print(H_norm)"
   ]
  },
  {
   "attachments": {},
   "cell_type": "markdown",
   "metadata": {},
   "source": [
    "Now, Fitting a polynomial curve equation to the CDF, since we have considered fractional powers, logarithmic conversions have been made to compensate for them"
   ]
  },
  {
   "cell_type": "code",
   "execution_count": null,
   "metadata": {},
   "outputs": [],
   "source": [
    "def fractional_polynomial(log_x, *coefficients):\n",
    "    equation = sum(coeff * (log_x ** power) for power, coeff in enumerate(coefficients))\n",
    "    return equation\n",
    "\n",
    "# Generate some sample data\n",
    "x_data = H_norm[id+2:]\n",
    "y_data = L_nspic[id+2:]/L_nspic[len(H_ind)-1]\n",
    "\n",
    "# Apply logarithmic transformation\n",
    "log_x_data = np.log(x_data)\n",
    "log_y_data = np.log(y_data)\n",
    "\n",
    "# Specify the number of parameters\n",
    "num_params = 4  # Adjust based on the expected number of coefficients\n",
    "\n",
    "# Fit the data to the logarithmic form of the fractional polynomial function\n",
    "coefficients, _ = curve_fit(fractional_polynomial, log_x_data, log_y_data, maxfev=10000, p0=[1] * num_params)\n",
    "\n",
    "# Create a symbolic variable for log(x)\n",
    "x = sp.symbols('x')\n",
    "\n",
    "# Generate the equation using sympy\n",
    "equation = sum(coeff * (x ** power) for power, coeff in enumerate(np.round(coefficients,2)))\n",
    "equation = sp.expand(equation)  # Expand the equation for better readability\n",
    "\n",
    "# Print the equation in a clear form\n",
    "equation_str = sp.latex(equation)\n",
    "print(\"Equation:\", equation_str)\n",
    "\n",
    "# Plot the original data points and the fitted curve in logarithmic form\n",
    "plt.scatter(log_x_data, log_y_data, label='Original Data')\n",
    "plt.plot(log_x_data, fractional_polynomial(log_x_data, *coefficients), 'r-', label='Fitted Curve')\n",
    "plt.xlabel('log(x)')\n",
    "plt.ylabel('log(y)')\n",
    "plt.legend()\n",
    "plt.title('CDF (Normalized) for No. of spicules less than a certain height in logarithmic scale')\n",
    "plt.show()\n"
   ]
  },
  {
   "attachments": {},
   "cell_type": "markdown",
   "metadata": {},
   "source": [
    "Now, Fitting a power law to the log of the CDF"
   ]
  },
  {
   "attachments": {},
   "cell_type": "markdown",
   "metadata": {},
   "source": [
    "Case I: Considering only a single power law for the entire domain"
   ]
  },
  {
   "cell_type": "code",
   "execution_count": null,
   "metadata": {},
   "outputs": [],
   "source": [
    "# Define the power law equation\n",
    "def power_law(x, a, b):\n",
    "    return a * np.power(x, b)\n",
    "\n",
    "# Generate example data\n",
    "x_data = (H_norm[:])\n",
    "y_data = (L_nspic[:]/L_nspic[-1])\n",
    "\n",
    "# Perform the power law fitting\n",
    "params, _ = curve_fit(power_law, x_data, y_data)\n",
    "\n",
    "# Extract the fitted parameters\n",
    "a_fit, b_fit = params\n",
    "\n",
    "# Print the fitted parameters\n",
    "print(\"Fitted Parameters:\")\n",
    "print(\"a =\", a_fit)\n",
    "print(\"b =\", b_fit)\n",
    "\n",
    "# Generate points for the fitted power law curve\n",
    "x_fit = np.linspace(min(x_data), max(x_data), 100)\n",
    "y_fit = power_law(x_fit, a_fit, b_fit)\n",
    "\n",
    "# Plot the data and the fitted curve\n",
    "plt.scatter(np.log(x_data), np.log(y_data), label='Data')\n",
    "plt.plot(np.log(x_fit), np.log(y_fit), color='red', label='Fitted Power Law')\n",
    "\n",
    "#plt.scatter((x_data), (y_data), label='Data')\n",
    "#plt.plot((x_fit),(y_fit), color='red', label='Fitted Power Law')\n",
    "\n",
    "plt.xlabel('log(x) (Normalized Height')\n",
    "plt.ylabel('log(y) (Normalized No. of spicules)')\n",
    "plt.legend()\n",
    "plt.title('CDF for No. of spicules less than a certain height in logarithmic scale')\n",
    "plt.show()"
   ]
  },
  {
   "attachments": {},
   "cell_type": "markdown",
   "metadata": {},
   "source": [
    "Case II: breaking the domain into two parts to account for the different power laws"
   ]
  },
  {
   "cell_type": "code",
   "execution_count": null,
   "metadata": {},
   "outputs": [],
   "source": [
    "# Define the power law equation\n",
    "def power_law(x, a, b):\n",
    "    return a * np.power(x, b)\n",
    "\n",
    "# Generate example data\n",
    "x_data = (H_norm[:]) # np.array([1, 2, 3, 4, 5])  # Independent variable\n",
    "y_data = (L_nspic[:]/L_nspic[-1])#np.array([2, 4, 8, 16, 32])  # Dependent variable\n",
    "\n",
    "# Extract the subsets of data\n",
    "# Here you can change 20 to whatever index you can see a better fit\n",
    "x_subset_1 = x_data[:20]\n",
    "y_subset_1 = y_data[:20]\n",
    "\n",
    "x_subset_2 = x_data[20:len(H_ind)-1]\n",
    "y_subset_2 = y_data[20:len(H_ind)-1]\n",
    "\n",
    "# Perform power law fitting for each subset\n",
    "params_1, _ = curve_fit(power_law, x_subset_1, y_subset_1)\n",
    "params_2, _ = curve_fit(power_law, x_subset_2, y_subset_2)\n",
    "\n",
    "# Extract the fitted parameters\n",
    "a_fit_1, b_fit_1 = params_1\n",
    "a_fit_2, b_fit_2 = params_2\n",
    "\n",
    "# Generate points for the fitted power law curves\n",
    "x_fit_1 = np.linspace(min(x_subset_1), max(x_subset_1), 100)\n",
    "y_fit_1 = power_law(x_fit_1, a_fit_1, b_fit_1)\n",
    "\n",
    "x_fit_2 = np.linspace(min(x_subset_2), max(x_subset_2), 100)\n",
    "y_fit_2 = power_law(x_fit_2, a_fit_2, b_fit_2)\n",
    "\n",
    "# Print the fitted parameters for 1st power law\n",
    "print(\"Fitted Parameters:\")\n",
    "print(\"a1 =\", a_fit_1)\n",
    "print(\"b1 =\", b_fit_1)\n",
    "\n",
    "# Print the fitted parameters for 2nd power law\n",
    "print(\"Fitted Parameters:\")\n",
    "print(\"a2 =\", a_fit_2)\n",
    "print(\"b2 =\", b_fit_2)\n",
    "\n",
    "# Plot the data and the fitted curves\n",
    "plt.scatter(np.log(x_data), np.log(y_data), label='Data')\n",
    "plt.plot(np.log(x_fit_1), np.log(y_fit_1), color='red', label='Fitted Power Law 1')\n",
    "plt.plot(np.log(x_fit_2), np.log(y_fit_2), color='blue', label='Fitted Power Law 2')\n",
    "\n",
    "\n",
    "plt.xlabel('log(x) (Normalized Height)', fontsize=15)\n",
    "plt.ylabel('log (y) (Normalized No. of spicules)', fontsize=15)\n",
    "plt.legend()\n",
    "plt.title('CDF in logarithmic scale', fontsize=15)\n",
    "plt.xlim(-4, 0.5)\n",
    "plt.ylim(-4, 0.5)\n",
    "plt.xticks(fontsize=12)\n",
    "plt.yticks(fontsize=12)\n",
    "plt.show()"
   ]
  },
  {
   "attachments": {},
   "cell_type": "markdown",
   "metadata": {},
   "source": [
    "Now, taking the numerical derivative to find the PDF "
   ]
  },
  {
   "cell_type": "code",
   "execution_count": null,
   "metadata": {},
   "outputs": [],
   "source": [
    "# Generate the CDF arrays\n",
    "x = H_Mm[id+1:]\n",
    "cdf = (L_nspic[id+1:]/L_nspic[-1])\n",
    "\n",
    "\n",
    "# Calculate the PDF by dividing the differences in CDF by the differences in x\n",
    "pdf = np.gradient(cdf,x)\n",
    "# Plot the PDF\n",
    "plt.scatter(x, pdf)\n",
    "plt.xlabel('x')\n",
    "plt.ylabel('PDF')\n",
    "plt.title('Probability Density Function (PDF)')\n",
    "plt.grid(True)\n",
    "plt.show()\n"
   ]
  }
 ],
 "metadata": {
  "kernelspec": {
   "display_name": "Python 3",
   "language": "python",
   "name": "python3"
  },
  "language_info": {
   "codemirror_mode": {
    "name": "ipython",
    "version": 3
   },
   "file_extension": ".py",
   "mimetype": "text/x-python",
   "name": "python",
   "nbconvert_exporter": "python",
   "pygments_lexer": "ipython3",
   "version": "3.10.4"
  },
  "orig_nbformat": 4
 },
 "nbformat": 4,
 "nbformat_minor": 2
}
