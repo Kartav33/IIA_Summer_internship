{
 "cells": [
  {
   "attachments": {},
   "cell_type": "markdown",
   "metadata": {},
   "source": [
    "Importing the required modules"
   ]
  },
  {
   "cell_type": "code",
   "execution_count": null,
   "metadata": {},
   "outputs": [],
   "source": [
    "import pandas as pd\n",
    "from matplotlib import pyplot as plt"
   ]
  },
  {
   "attachments": {},
   "cell_type": "markdown",
   "metadata": {},
   "source": [
    "Reading it into python"
   ]
  },
  {
   "cell_type": "code",
   "execution_count": null,
   "metadata": {},
   "outputs": [],
   "source": [
    "data=pd.read_excel(\"Parabola_fits_48km.xlsx\")\n",
    "df=pd.DataFrame(data)\n",
    "print(df)"
   ]
  },
  {
   "cell_type": "code",
   "execution_count": null,
   "metadata": {},
   "outputs": [],
   "source": [
    "R_100=df.loc[1:9,   \"Ratio\"]\n",
    "R_200=df.loc[11:19, \"Ratio\"]\n",
    "R_300=df.loc[21:29, \"Ratio\"]"
   ]
  },
  {
   "cell_type": "code",
   "execution_count": null,
   "metadata": {},
   "outputs": [],
   "source": [
    "x_100=[];x_200=[];x_300=[]\n",
    "for i in range(9):\n",
    "    x_100.append(100)\n",
    "    x_200.append(200)\n",
    "    x_300.append(300)"
   ]
  },
  {
   "attachments": {},
   "cell_type": "markdown",
   "metadata": {},
   "source": [
    "Plotting the deceleration ratio of top 75 percentile of spicules in each of the cases."
   ]
  },
  {
   "cell_type": "code",
   "execution_count": null,
   "metadata": {},
   "outputs": [],
   "source": [
    "plt.scatter(x_100, R_100)\n",
    "plt.scatter(x_200, R_200)\n",
    "plt.scatter(x_300, R_300)\n",
    "ticks=[100,200,300]\n",
    "plt.xticks(ticks, fontsize=12)\n",
    "plt.yticks(fontsize=12)\n",
    "plt.xlabel(\"Magnetic Field Strength (in Gauss)\", fontsize=15)\n",
    "plt.ylabel(\"a/g\", fontsize=15)\n",
    "plt.title(\"Deceleration ratio Vs. Magnetic field\", fontsize=15)\n",
    "plt.grid()\n",
    "plt.show()"
   ]
  }
 ],
 "metadata": {
  "kernelspec": {
   "display_name": "Python 3",
   "language": "python",
   "name": "python3"
  },
  "language_info": {
   "codemirror_mode": {
    "name": "ipython",
    "version": 3
   },
   "file_extension": ".py",
   "mimetype": "text/x-python",
   "name": "python",
   "nbconvert_exporter": "python",
   "pygments_lexer": "ipython3",
   "version": "3.10.4"
  },
  "orig_nbformat": 4
 },
 "nbformat": 4,
 "nbformat_minor": 2
}
