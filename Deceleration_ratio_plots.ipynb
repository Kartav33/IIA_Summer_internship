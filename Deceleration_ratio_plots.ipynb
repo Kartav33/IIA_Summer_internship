{
 "cells": [
  {
   "attachments": {},
   "cell_type": "markdown",
   "metadata": {},
   "source": [
    "Importing the required modules"
   ]
  },
  {
   "cell_type": "code",
   "execution_count": null,
   "metadata": {},
   "outputs": [],
   "source": [
    "import pandas as pd\n",
    "from matplotlib import pyplot as plt"
   ]
  },
  {
   "attachments": {},
   "cell_type": "markdown",
   "metadata": {},
   "source": [
    "Reading it into python"
   ]
  },
  {
   "cell_type": "code",
   "execution_count": null,
   "metadata": {},
   "outputs": [],
   "source": [
    "data=pd.read_excel(\"Parabola_fits_hires.xlsx\") #path to file\n",
    "df=pd.DataFrame(data)\n",
    "print(df)"
   ]
  },
  {
   "cell_type": "code",
   "execution_count": null,
   "metadata": {},
   "outputs": [],
   "source": [
    "R_10=df.loc[1:9, \"Ratio\"]\n",
    "R_50=df.loc[11:19, \"Ratio\"]\n",
    "R_100=df.loc[21:29, \"Ratio\"]\n",
    "R_200=df.loc[31:39, \"Ratio\"]"
   ]
  },
  {
   "cell_type": "code",
   "execution_count": null,
   "metadata": {},
   "outputs": [],
   "source": [
    "print(R_200)"
   ]
  },
  {
   "cell_type": "code",
   "execution_count": null,
   "metadata": {},
   "outputs": [],
   "source": [
    "x_10=[];x_50=[];x_100=[]; x_200=[]\n",
    "for i in range(9):\n",
    "    x_10.append(10)\n",
    "    x_50.append(50)\n",
    "    x_100.append(100)\n",
    "    x_200.append(200)"
   ]
  },
  {
   "attachments": {},
   "cell_type": "markdown",
   "metadata": {},
   "source": [
    "Plotting the deceleration ratio of top 75 percentile of spicules in each of the cases."
   ]
  },
  {
   "cell_type": "code",
   "execution_count": null,
   "metadata": {},
   "outputs": [],
   "source": [
    "plt.scatter(x_10, R_10, color=\"red\", marker=\"*\")\n",
    "plt.scatter(x_50, R_50, color=\"green\", marker=\"v\")\n",
    "plt.scatter(x_100, R_100, color=\"black\", marker=\"o\")\n",
    "plt.scatter(x_200, R_200, color=\"blue\", marker=\"1\")\n",
    "ticks=[10, 50, 100,200]\n",
    "plt.xticks(ticks, fontsize=12)\n",
    "plt.yticks(fontsize=12)\n",
    "plt.xlabel(\"Magnetic Field Strength (in Gauss)\", fontsize=15)\n",
    "plt.ylabel(\"a/$g_s$\", fontsize=15)\n",
    "plt.title(\"Deceleration ratio Vs. Magnetic field\", fontsize=15)\n",
    "plt.grid()\n",
    "plt.show()"
   ]
  }
 ],
 "metadata": {
  "kernelspec": {
   "display_name": "Python 3",
   "language": "python",
   "name": "python3"
  },
  "language_info": {
   "codemirror_mode": {
    "name": "ipython",
    "version": 3
   },
   "file_extension": ".py",
   "mimetype": "text/x-python",
   "name": "python",
   "nbconvert_exporter": "python",
   "pygments_lexer": "ipython3",
   "version": "3.10.4"
  },
  "orig_nbformat": 4
 },
 "nbformat": 4,
 "nbformat_minor": 2
}
