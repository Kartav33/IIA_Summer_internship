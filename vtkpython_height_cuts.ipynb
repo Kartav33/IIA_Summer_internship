{
 "cells": [
  {
   "attachments": {},
   "cell_type": "markdown",
   "metadata": {},
   "source": [
    "Importing the desired modules"
   ]
  },
  {
   "cell_type": "code",
   "execution_count": null,
   "metadata": {},
   "outputs": [],
   "source": [
    "import numpy as np\n",
    "from vtk import vtkStructuredPointsReader\n",
    "from vtkmodules.util import numpy_support as VN\n",
    "import vtk\n",
    "from vtkmodules.util.numpy_support import vtk_to_numpy\n",
    "from matplotlib.colors import ListedColormap\n",
    "import matplotlib.pyplot as plt\n",
    "import pandas as pd\n",
    "from scipy import ndimage"
   ]
  },
  {
   "attachments": {},
   "cell_type": "markdown",
   "metadata": {},
   "source": [
    "Reading the vtk file "
   ]
  },
  {
   "cell_type": "code",
   "execution_count": null,
   "metadata": {},
   "outputs": [],
   "source": [
    "reader = vtkStructuredPointsReader()\n",
    "reader.SetFileName(\"100G_lndem_3D.vtk\")  #set the path to vtk file\n",
    "reader.ReadAllVectorsOn()\n",
    "reader.ReadAllScalarsOn()\n",
    "reader.Update()\n",
    "\n",
    "data = reader.GetOutput()\n",
    "dim = data.GetDimensions()\n",
    "Ox,Oy,Oz=data.GetOrigin()\n",
    "Sx,Sy,Sz=data.GetSpacing()\n",
    "\n",
    "\n",
    "#Variables of the contours\n",
    "# Note: here the contour variables will be whatever the heading of the column of the contours in the vtk files is\n",
    "u = VN.vtk_to_numpy(data.GetPointData().GetArray('lndem_3d'))\n",
    "b = VN.vtk_to_numpy(data.GetPointData().GetArray('log10T'))\n",
    "\n",
    "u = u.reshape(dim,order='F')\n",
    "b = b.reshape(dim,order='F')"
   ]
  },
  {
   "cell_type": "code",
   "execution_count": null,
   "metadata": {},
   "outputs": [],
   "source": [
    "print(dim[2])\n",
    "print(Oz + Sz*(dim[2]-1)) #prints origin of z-axis, hence verifying the run"
   ]
  },
  {
   "attachments": {},
   "cell_type": "markdown",
   "metadata": {},
   "source": [
    "Extracting a smaller subset to work in a particular specified domain"
   ]
  },
  {
   "cell_type": "code",
   "execution_count": null,
   "metadata": {},
   "outputs": [],
   "source": [
    "#You can choose to work on a subset rather than whole domain\n",
    "\n",
    "#axes points, similarly for u and b\n",
    "x = np.zeros(data.GetNumberOfPoints())\n",
    "y = np.zeros(data.GetNumberOfPoints())\n",
    "z = np.zeros(data.GetNumberOfPoints())\n",
    "\n",
    "for i in range(data.GetNumberOfPoints()):\n",
    "        x[i],y[i],z[i] = data.GetPoint(i)\n",
    "\n",
    "#reshaping them into appripriate dimensions\n",
    "x = x.reshape(dim,order='F')\n",
    "y = y.reshape(dim,order='F')\n",
    "z = z.reshape(dim,order='F')\n",
    "\n",
    "x_sub=x[0:301, 110:730, 0:61]\n",
    "y_sub=y[0:301, 110:730, 0:61]\n",
    "z_sub=z[0:301, 110:730, 0:61]\n",
    "\n",
    "print(np.shape(x))\n",
    "print(np.shape(y))\n",
    "print(np.shape(z))"
   ]
  },
  {
   "attachments": {},
   "cell_type": "markdown",
   "metadata": {},
   "source": [
    "Making the 2D slash cut at a specified height "
   ]
  },
  {
   "cell_type": "code",
   "execution_count": null,
   "metadata": {},
   "outputs": [],
   "source": [
    "#If you want to make a 2D slash at some specified point in the space you can use this slicing\n",
    "\n",
    "x_slash=x[0:301, 150:151, 0:61]\n",
    "y_slash=y[0:301, 150:151, 0:61]\n",
    "z_slash=z[0:301, 150:151, 0:61]\n",
    "b_slash=b[0:301, 150:151, 0:61]\n",
    "u_slash=u[499:501, 200:202, 4:6]"
   ]
  },
  {
   "attachments": {},
   "cell_type": "markdown",
   "metadata": {},
   "source": [
    "Plotting the contours manually using the contour function of matplotlib and using the default color scheme offered by the function"
   ]
  },
  {
   "cell_type": "code",
   "execution_count": null,
   "metadata": {},
   "outputs": [],
   "source": [
    "#grange function replaced with arange in python while bytscl is replaced \n",
    "#with np.clip and astype, np.floor is used for refoming and levels is used to clor scheming\n",
    "\n",
    "# Assuming lndem_3D is a numpy array containing the data\n",
    "lndem_3D=u\n",
    "nx, nz, nt = lndem_3D.shape\n",
    "\n",
    "# Reform and bytscl the data  \n",
    "data = np.clip(np.floor(255 * (lndem_3D[0:nx-1, 400, 0:nt-1] + 3) / 3), 0, 255).astype(np.uint8)\n",
    "\n",
    "# Set up x and time arrays\n",
    "x = np.arange(nx-1)\n",
    "time = np.arange(nt-1)\n",
    "[X,Y]=np.meshgrid(time,x)\n",
    "\n",
    "\n",
    "# Set up contour levels\n",
    "levels = np.arange(0, 255, 200)\n",
    "\n",
    "# Plot the contour\n",
    "cont = plt.contour(X,Y, data, levels=levels)\n",
    "\n",
    "# Show the plot\n",
    "plt.xlabel(\"Time indices\")\n",
    "plt.ylabel(\"Width indices\")\n",
    "plt.show()"
   ]
  },
  {
   "attachments": {},
   "cell_type": "markdown",
   "metadata": {},
   "source": [
    "Full code to read the vtk file but using the imshow function to plot the thermal plots rather than contour plots"
   ]
  },
  {
   "cell_type": "code",
   "execution_count": null,
   "metadata": {},
   "outputs": [],
   "source": [
    "def patch_count(slice_data, colors, id):\n",
    "    # Define the threshold value for brightness\n",
    "    threshold = 0.0 # This condition specifies the values at which to compute the isosurfaces\n",
    "\n",
    "    # Apply the threshold to create a binary mask for bright spots\n",
    "    binary_mask = np.where(slice_data > threshold, 1, 0)\n",
    "\n",
    "    # Label the connected components (patches)\n",
    "    labeled_mask, num_labels = ndimage.label(binary_mask)\n",
    "\n",
    "    # Exclude the background label (0)\n",
    "    num_patches = num_labels - 1\n",
    "\n",
    "    if num_patches >0:\n",
    "        return num_patches\n",
    "    else:\n",
    "        return 0"
   ]
  },
  {
   "cell_type": "code",
   "execution_count": null,
   "metadata": {},
   "outputs": [],
   "source": [
    "# Get the data from the VTK file\n",
    "data = reader.GetOutput()\n",
    "dims = data.GetDimensions()\n",
    "vtk_array = data.GetPointData().GetScalars()\n",
    "np_array = vtk_to_numpy(vtk_array)\n",
    "np_array = np_array.reshape(dims[2], dims[1], dims[0])\n",
    "Origin=data.GetOrigin()\n",
    "Spacing=data.GetSpacing()\n",
    "\n",
    "# Define the color scheme\n",
    "colors = plt.cm.hot_r\n",
    "\n",
    "# Create an empty list or DataFrame to store the values\n",
    "Spic_count = []; H_ind = []; H_Mm = []\n",
    "\n",
    "# Perform the calculation in a while loop and append the results to the list or DataFrame\n",
    "gap=3; start=180; i=0; check=0\n",
    "while check == 0:\n",
    "    id=start + gap*i\n",
    "    slice_data=np_array[:, id, :]\n",
    "    spic=patch_count(slice_data, colors, id)\n",
    "\n",
    "    #formula to find the maximum height\n",
    "    H_max= Oy + Sy*(id-gap) \n",
    "\n",
    "    #Appending the data accrodingly\n",
    "    Spic_count.append(spic)\n",
    "    H_ind.append(id)\n",
    "    H_Mm.append(Oy + (id)*Sy)\n",
    "    if spic == 0 or H_max >= 28:\n",
    "        check=1\n",
    "    i+=1\n",
    "\n",
    "# Create a dictionary with column names and their values\n",
    "data_to_csv = {'Spicules': Spic_count,\n",
    "        'Height[i]': H_ind,\n",
    "        'Height (Mm)': H_Mm}\n",
    "\n",
    "# Convert the dictionary to a DataFrame\n",
    "df = pd.DataFrame(data_to_csv)\n",
    "\n",
    "# Specify the file path and name for your Excel sheet\n",
    "file_path = \"100G_lndem_3D_48km_data.csv\"\n",
    "\n",
    "# Write the DataFrame to the Excel file using pandas\n",
    "df.to_csv(file_path, index=False)"
   ]
  },
  {
   "cell_type": "code",
   "execution_count": null,
   "metadata": {},
   "outputs": [],
   "source": [
    "#Printing the height at whih the last spicules was counted    \n",
    "if Spic_count[-1]>0:\n",
    "    print(round(H_Mm[-1],3))\n",
    "elif Spic_count[-2]>0:\n",
    "    print(round(H_Mm[-2],3))"
   ]
  },
  {
   "cell_type": "code",
   "execution_count": null,
   "metadata": {},
   "outputs": [],
   "source": [
    "slice_data=np_array[:, 400, :]\n",
    "\n",
    "# Plot the slice data with the color scheme\n",
    "print(\"Without specifying the color scheme\")\n",
    "plt.imshow(slice_data, cmap=colors)\n",
    "plt.colorbar()\n",
    "plt.show()\n",
    "\n",
    "# Define the custom grayscale color scheme\n",
    "colors_list = [(i/255.0, i/255.0, i/255.0) for i in range(256)]\n",
    "values_list = [i for i in range(256)]\n",
    "colors = ListedColormap(colors_list)\n",
    "\n",
    "# Define the custom color scheme\n",
    "'''colors_list = [(0.0, 0.0, 0.0), (1.0, 0.0, 0.0), (1.0, 1.0, 0.0),(1.0, 1.0, 1.0)]\n",
    "values_list = [0, 10, 20, 30]\n",
    "colors = ListedColormap(colors_list)'''\n",
    "\n",
    "# Plot the slice data with the customized color scheme\n",
    "print(\"After specifying the color scheme\")\n",
    "#extent is for resizing the axes and aspect is the ratio\n",
    "plt.imshow(slice_data, cmap=colors, vmin=0, vmax=2, extent=[Origin[0], Origin[0] + Spacing[0]*(dims[0]-1), Origin[2], Origin[2] + Spacing[2]*(dims[2]-1)],aspect=1) \n",
    "#plt.colorbar()\n",
    "plt.xlabel(\"$x$ (width in Mm)\",fontsize=12)\n",
    "plt.ylabel(\"$t$ (time in min)\",fontsize=12)\n",
    "plt.colorbar(orientation='horizontal'). set_label(\"$log(I/I_0)$\")\n",
    "plt.show()\n",
    "\n",
    "print(Origin)"
   ]
  }
 ],
 "metadata": {
  "kernelspec": {
   "display_name": "Python 3",
   "language": "python",
   "name": "python3"
  },
  "language_info": {
   "codemirror_mode": {
    "name": "ipython",
    "version": 3
   },
   "file_extension": ".py",
   "mimetype": "text/x-python",
   "name": "python",
   "nbconvert_exporter": "python",
   "pygments_lexer": "ipython3",
   "version": "3.10.4"
  },
  "orig_nbformat": 4
 },
 "nbformat": 4,
 "nbformat_minor": 2
}
