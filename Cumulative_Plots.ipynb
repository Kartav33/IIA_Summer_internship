{
 "cells": [
  {
   "attachments": {},
   "cell_type": "markdown",
   "metadata": {},
   "source": [
    "Importing the required modules"
   ]
  },
  {
   "cell_type": "code",
   "execution_count": null,
   "metadata": {},
   "outputs": [],
   "source": [
    "import pandas as pd\n",
    "import numpy as np\n",
    "from matplotlib import pyplot as plt"
   ]
  },
  {
   "attachments": {},
   "cell_type": "markdown",
   "metadata": {},
   "source": [
    "Reading it into python"
   ]
  },
  {
   "cell_type": "code",
   "execution_count": null,
   "metadata": {},
   "outputs": [],
   "source": [
    "data1=pd.read_csv(\"10G_lndem_3D_16km_data.csv\")\n",
    "df1=pd.DataFrame(data1)\n",
    "print(df1)\n",
    "data2=pd.read_csv(\"50G_lndem_3D_16km_data.csv\")\n",
    "df2=pd.DataFrame(data2)\n",
    "print(df2)\n",
    "data3=pd.read_csv(\"200G_lndem_3D_16km_data.csv\")\n",
    "df3=pd.DataFrame(data3)\n",
    "print(df3)\n",
    "data4=pd.read_csv(\"100G_lndem_3D_16km_data.csv\")\n",
    "df4=pd.DataFrame(data4)\n",
    "print(df4)"
   ]
  },
  {
   "cell_type": "code",
   "execution_count": null,
   "metadata": {},
   "outputs": [],
   "source": [
    "# when Height in Mm crosses the required height, i.e., the index after which you can see an approximate monotonically decreasing feature, in these cases 10 is for 10G, 8 is for 50G, while 4.45 is for 200G\n",
    "id1=0 \n",
    "for item in df1.loc[:,\"Height (Mm)\"]:\n",
    "    if item > 10:\n",
    "        break\n",
    "    id1+=1\n",
    "\n",
    "id2=0\n",
    "for item in df2.loc[:,\"Height (Mm)\"]:\n",
    "    if item >8:\n",
    "        break\n",
    "    id2+=1\n",
    "\n",
    "id3=0\n",
    "for item in df3.loc[:,\"Height (Mm)\"]:\n",
    "    if item >4.45:\n",
    "        break\n",
    "    id3+=1\n",
    "\n",
    "id4=0\n",
    "for item in df4.loc[:,\"Height (Mm)\"]:\n",
    "    if item > 5.56:\n",
    "        break\n",
    "    id4+=1"
   ]
  },
  {
   "cell_type": "code",
   "execution_count": null,
   "metadata": {},
   "outputs": [],
   "source": [
    "H_ind1=df1.loc[id1:,\"Height[i]\"]\n",
    "H_Mm1=df1.loc[id1:,\"Height (Mm)\"]\n",
    "nspic1=df1.loc[id1:,\"Spicules\"]\n",
    "\n",
    "H_ind2=df2.loc[id2:,\"Height[i]\"]\n",
    "H_Mm2=df2.loc[id2:,\"Height (Mm)\"]\n",
    "nspic2=df2.loc[id2:,\"Spicules\"]\n",
    "\n",
    "H_ind3=df3.loc[id3:,\"Height[i]\"]\n",
    "H_Mm3=df3.loc[id3:,\"Height (Mm)\"]\n",
    "nspic3=df3.loc[id3:,\"Spicules\"]\n",
    "\n",
    "H_ind4=df4.loc[id4:,\"Height[i]\"]\n",
    "H_Mm4=df4.loc[id4:,\"Height (Mm)\"]\n",
    "nspic4=df4.loc[56:,\"Spicules\"]"
   ]
  },
  {
   "cell_type": "code",
   "execution_count": null,
   "metadata": {},
   "outputs": [],
   "source": [
    "print(nspic4)"
   ]
  },
  {
   "attachments": {},
   "cell_type": "markdown",
   "metadata": {},
   "source": [
    "Changing the variables accroding to the definition"
   ]
  },
  {
   "cell_type": "code",
   "execution_count": null,
   "metadata": {},
   "outputs": [],
   "source": [
    "'''L_nspic=[]\n",
    "\n",
    "for i in range(id, len(df.loc[:,\"Height[i]\"])):\n",
    "    nspic_l=nspic[id]-nspic[i]\n",
    "    L_nspic.append(nspic_l)'''   #sample command line that has to be followed for all of them\n",
    "\n",
    "L_nspic1=[]\n",
    "\n",
    "for i in range(id1, len(df1.loc[:,\"Height[i]\"])):\n",
    "    nspic_l=nspic1[id1]-nspic1[i]\n",
    "    L_nspic1.append(nspic_l)\n",
    "    \n",
    "print(L_nspic1)\n",
    "\n",
    "L_nspic2=[]\n",
    "\n",
    "for i in range(id2, len(df2.loc[:,\"Height[i]\"])):\n",
    "    nspic_l=nspic2[id2]-nspic2[i]\n",
    "    L_nspic2.append(nspic_l)\n",
    "    \n",
    "print(L_nspic2)\n",
    "\n",
    "L_nspic3=[]\n",
    "\n",
    "for i in range(id3, len(df3.loc[:,\"Height[i]\"])):\n",
    "    nspic_l=nspic3[id3]-nspic3[i]\n",
    "    L_nspic3.append(nspic_l)\n",
    "    \n",
    "print(L_nspic3)\n",
    "\n",
    "L_nspic4=[]\n",
    "\n",
    "for i in range(id4, len(df4.loc[:,\"Height[i]\"])):\n",
    "    nspic_l=nspic4[id4]-nspic4[i]\n",
    "    L_nspic4.append(nspic_l)\n",
    "    \n",
    "print(L_nspic4)"
   ]
  },
  {
   "cell_type": "code",
   "execution_count": null,
   "metadata": {},
   "outputs": [],
   "source": [
    "H_norm1=[]\n",
    "H_min1=np.min(H_Mm1)\n",
    "H_max1=np.max(H_Mm1)\n",
    "for i in range(id1, len(df1.loc[:,\"Height[i]\"])):\n",
    "    normal_height=(H_Mm1[i]-H_min1)/(H_max1-H_min1)\n",
    "    H_norm1.append(normal_height)\n",
    "\n",
    "print(H_norm1)\n",
    "\n",
    "H_norm2=[]\n",
    "H_min2=np.min(H_Mm2)\n",
    "H_max2=np.max(H_Mm2)\n",
    "for i in range(id2, len(df2.loc[:,\"Height[i]\"])):\n",
    "    normal_height=(H_Mm2[i]-H_min2)/(H_max2-H_min2)\n",
    "    H_norm2.append(normal_height)\n",
    "\n",
    "print(H_norm2)\n",
    "\n",
    "H_norm3=[]\n",
    "H_min3=np.min(H_Mm3)\n",
    "H_max3=np.max(H_Mm3)\n",
    "for i in range(id3, len(df3.loc[:,\"Height[i]\"])):\n",
    "    normal_height=(H_Mm3[i]-H_min3)/(H_max3-H_min3)\n",
    "    H_norm3.append(normal_height)\n",
    "\n",
    "print(H_norm3)\n",
    "\n",
    "H_norm4=[]\n",
    "H_min4=np.min(H_Mm4)\n",
    "H_max4=np.max(H_Mm4)\n",
    "for i in range(id4, len(df4.loc[:,\"Height[i]\"])):\n",
    "    normal_height=(H_Mm4[i]-H_min4)/(H_max4-H_min4)\n",
    "    H_norm4.append(normal_height)\n",
    "\n",
    "print(H_norm4)\n",
    "print(H_max3, H_max4, H_max2, H_max1)"
   ]
  },
  {
   "attachments": {},
   "cell_type": "markdown",
   "metadata": {},
   "source": [
    "Plotting the Cumulative CDF after normalising both variables"
   ]
  },
  {
   "cell_type": "code",
   "execution_count": null,
   "metadata": {},
   "outputs": [],
   "source": [
    "plt.scatter(H_norm1, L_nspic1/L_nspic1[-1], color='red', label= '10G', marker=\"*\", s=100)\n",
    "plt.scatter(H_norm2, L_nspic2/L_nspic2[-1], color='green', label=\"50G\", marker=\".\", s=95)\n",
    "plt.scatter(H_norm4, L_nspic4/L_nspic4[-1], color='black', label='100G', marker=\"_\", s=80)\n",
    "plt.scatter(H_norm3, L_nspic3/L_nspic3[-1], color='blue', label='200G', marker=\"1\", s=50)\n",
    "\n",
    "\n",
    "#plt.title(\"CDF\", fontsize=15)\n",
    "plt.xlabel('$h_{norm}$', fontsize=15)\n",
    "plt.ylabel('$N_{norm}$', fontsize=15)\n",
    "plt.xticks(fontsize=12)\n",
    "plt.yticks(fontsize=12)\n",
    "plt.grid()\n",
    "plt.legend()\n",
    "plt.show()\n"
   ]
  },
  {
   "attachments": {},
   "cell_type": "markdown",
   "metadata": {},
   "source": [
    "Plotting the cumulative CDF after normalising both variables on a logarithmic scale "
   ]
  },
  {
   "cell_type": "code",
   "execution_count": null,
   "metadata": {},
   "outputs": [],
   "source": [
    "plt.scatter(np.log(H_norm1), np.log(L_nspic1/L_nspic1[-1]), color='red', label= '10G', s=100, marker=\"*\")\n",
    "plt.scatter(np.log(H_norm2), np.log(L_nspic2/L_nspic2[-1]), color='green', label=\"50G\", s=95, marker=\".\")\n",
    "plt.scatter(np.log(H_norm4), np.log(L_nspic4/L_nspic4[-1]), color='black', label='100G', s=80, marker=\"_\")\n",
    "plt.scatter(np.log(H_norm3), np.log(L_nspic3/L_nspic3[-1]), color='blue', label='200G', s=50, marker=\"1\")\n",
    "\n",
    "plt.xlim(-4.5, 0.5)\n",
    "plt.ylim(-4.5, 0.5)\n",
    "plt.xticks(fontsize=12)\n",
    "plt.yticks(fontsize=12)\n",
    "#plt.title(\"Cumulative CDF (both axes normalized) in the logarithmic scale\", fontsize=15)\n",
    "plt.xlabel('log(x)(Normalized Height)',fontsize=15)\n",
    "plt.ylabel('log(y) (Normalized No of Spicules)', fontsize=15)\n",
    "plt.grid()\n",
    "plt.legend()\n",
    "plt.show()"
   ]
  },
  {
   "attachments": {},
   "cell_type": "markdown",
   "metadata": {},
   "source": [
    "Plotting the cumulative CDF after normalising both variables on a semi-logarithmic scale "
   ]
  },
  {
   "cell_type": "code",
   "execution_count": null,
   "metadata": {},
   "outputs": [],
   "source": [
    "plt.scatter(H_Mm1, np.log(L_nspic1/L_nspic1[-1]), color='red', label= '10G', s=100, marker=\"*\")\n",
    "plt.scatter(H_Mm2, np.log(L_nspic2/L_nspic2[-1]), color='green', label=\"50G\", s=90, marker=\".\")\n",
    "plt.scatter(H_Mm4, np.log(L_nspic4/L_nspic4[-1]), color='black', label='100G', s=80, marker=\"_\")\n",
    "plt.scatter(H_Mm3, np.log(L_nspic3/L_nspic3[-1]), color='blue', label='200G', s=50, marker=\"1\")\n",
    "\n",
    "plt.xlim(4, 28)\n",
    "plt.ylim(-4.5, 0.5)\n",
    "#plt.title(\"Cumulative CDF (Y-axis normalized) in semi-log scale\",fontsize=15)\n",
    "plt.xlabel('$h$ (Mm)',fontsize=15)\n",
    "plt.ylabel('$log(N_{norm}$)', fontsize=15)\n",
    "plt.xticks(fontsize=12)\n",
    "plt.yticks(fontsize=12)\n",
    "plt.grid()\n",
    "plt.legend()\n",
    "plt.show()"
   ]
  },
  {
   "cell_type": "code",
   "execution_count": null,
   "metadata": {},
   "outputs": [],
   "source": [
    "plt.scatter(H_Mm1, (L_nspic1/L_nspic1[-1]), color='red', label= '10G', s=100, marker=\"*\")\n",
    "plt.scatter(H_Mm2, (L_nspic2/L_nspic2[-1]), color='green', label=\"50G\", s=90, marker=\".\")\n",
    "plt.scatter(H_Mm4, (L_nspic4/L_nspic4[-1]), color='black', label='100G', s=80, marker=\"_\")\n",
    "plt.scatter(H_Mm3, (L_nspic3/L_nspic3[-1]), color='blue', label='200G', s=50, marker=\"1\")\n",
    "\n",
    "#plt.xlim(4, 28)\n",
    "#plt.ylim(-4.5, 0.5)\n",
    "#plt.title(\"Cumulative CDF vs. Original heights\",fontsize=15)\n",
    "plt.xlabel('$h$ (Mm)',fontsize=15)\n",
    "plt.ylabel('$N_{norm}$', fontsize=15)\n",
    "plt.xticks(fontsize=12)\n",
    "plt.yticks(fontsize=12)\n",
    "plt.grid()\n",
    "plt.legend()\n",
    "plt.show()"
   ]
  },
  {
   "cell_type": "code",
   "execution_count": null,
   "metadata": {},
   "outputs": [],
   "source": [
    "plt.scatter([10] * len(H_Mm1), (H_Mm1), color='red', label= '10G', s=50, marker=\"*\")\n",
    "plt.scatter([50] * len(H_Mm2), (H_Mm2), color='green', label=\"50G\", s=50, marker=\".\")\n",
    "plt.scatter([100] * len(H_Mm4), (H_Mm4), color='black', label='100G', s=50, marker=\"_\")\n",
    "plt.scatter([200] * len(H_Mm3), (H_Mm3), color='blue', label='200G', s=50, marker=\"1\")\n",
    "\n",
    "#plt.xlim(4, 28)\n",
    "#plt.ylim(-4.5, 0.5)\n",
    "#plt.title(\"Cumulative CDF vs. Original heights\",fontsize=15)\n",
    "plt.ylabel('$h$ (Mm)',fontsize=15)\n",
    "plt.xlabel('$B_{imp}$ (G)', fontsize=15)\n",
    "ticks=[10, 50, 100,200]\n",
    "plt.xticks(ticks, fontsize=12)\n",
    "plt.yticks(fontsize=12)\n",
    "plt.grid()\n",
    "#plt.legend()\n",
    "plt.show()"
   ]
  }
 ],
 "metadata": {
  "kernelspec": {
   "display_name": "Python 3",
   "language": "python",
   "name": "python3"
  },
  "language_info": {
   "codemirror_mode": {
    "name": "ipython",
    "version": 3
   },
   "file_extension": ".py",
   "mimetype": "text/x-python",
   "name": "python",
   "nbconvert_exporter": "python",
   "pygments_lexer": "ipython3",
   "version": "3.8.10"
  },
  "orig_nbformat": 4
 },
 "nbformat": 4,
 "nbformat_minor": 2
}
