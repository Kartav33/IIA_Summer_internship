{
 "cells": [
  {
   "attachments": {},
   "cell_type": "markdown",
   "metadata": {},
   "source": [
    "Importing the required modules"
   ]
  },
  {
   "cell_type": "code",
   "execution_count": null,
   "metadata": {},
   "outputs": [],
   "source": [
    "import numpy as np\n",
    "from vtk import vtkStructuredPointsReader\n",
    "from vtkmodules.util import numpy_support as VN\n",
    "import matplotlib.pyplot as plt\n",
    "import pandas as pd\n",
    "import vtk\n",
    "from vtkmodules.util.numpy_support import vtk_to_numpy\n",
    "from matplotlib.colors import ListedColormap"
   ]
  },
  {
   "attachments": {},
   "cell_type": "markdown",
   "metadata": {},
   "source": [
    "Reading the vtk files"
   ]
  },
  {
   "cell_type": "code",
   "execution_count": null,
   "metadata": {},
   "outputs": [],
   "source": [
    "reader = vtkStructuredPointsReader()\n",
    "reader.SetFileName(\"100G_lndem_3D.vtk\")  #set the path to vtk file\n",
    "reader.ReadAllVectorsOn()\n",
    "reader.ReadAllScalarsOn()\n",
    "reader.Update()\n",
    "\n",
    "data = reader.GetOutput()\n",
    "dim = data.GetDimensions()\n",
    "Ox,Oy,Oz=data.GetOrigin()\n",
    "Sx,Sy,Sz=data.GetSpacing()\n",
    "\n",
    "\n",
    "#Variables of the contours\n",
    "# Note: here the contour variables will be whatever the heading of the column of the contours in the vtk files is\n",
    "u = VN.vtk_to_numpy(data.GetPointData().GetArray('lndem_3d'))\n",
    "b = VN.vtk_to_numpy(data.GetPointData().GetArray('log10T'))\n",
    "\n",
    "u = u.reshape(dim,order='F')\n",
    "b = b.reshape(dim,order='F')"
   ]
  },
  {
   "attachments": {},
   "cell_type": "markdown",
   "metadata": {},
   "source": [
    "Plotting with contour function"
   ]
  },
  {
   "cell_type": "code",
   "execution_count": null,
   "metadata": {},
   "outputs": [],
   "source": [
    "#grange function replaced with arange in python while bytscl is replaced \n",
    "#with np.clip and astype, np.floor is used for refoming and levels is used to clor scheming\n",
    "\n",
    "# Assuming lndem_3D is a numpy array containing the data\n",
    "lndem_3D=u\n",
    "nx, nz, nt = lndem_3D.shape\n",
    "\n",
    "#point at which the horizontal cut has to be made\n",
    "id=508\n",
    "\n",
    "# Reform and bytscl the data  \n",
    "data = np.clip(np.floor(255 * (lndem_3D[id, 0:nz-1, 0:nt-1] + 3) / 3), 0, 255).astype(np.uint8)\n",
    "# Set up x and time arrays\n",
    "z = np.arange(nz-1)\n",
    "time = np.arange(nt-1)\n",
    "[X,Y]=np.meshgrid(time,z)\n",
    "\n",
    "\n",
    "# Set up contour levels\n",
    "levels = np.arange(0, 255, 200)\n",
    "\n",
    "# Plot the contour\n",
    "cont = plt.contour(X,Y, data, levels=levels)\n",
    "\n",
    "# Show the plot\n",
    "plt.show()"
   ]
  },
  {
   "attachments": {},
   "cell_type": "markdown",
   "metadata": {},
   "source": [
    "Plotting with imshow function"
   ]
  },
  {
   "cell_type": "code",
   "execution_count": null,
   "metadata": {},
   "outputs": [],
   "source": [
    "# Get the data from the VTK file\n",
    "data = reader.GetOutput()\n",
    "dims = data.GetDimensions()\n",
    "Origin=data.GetOrigin()\n",
    "Spacing=data.GetSpacing()\n",
    "vtk_array = data.GetPointData().GetScalars()\n",
    "np_array = vtk_to_numpy(vtk_array)\n",
    "np_array = np_array.reshape(dims[2], dims[1], dims[0])\n",
    "\n",
    "slice_data=np_array[:, :, id]\n",
    "\n",
    "\n",
    "# Define the custom grayscale color scheme\n",
    "colors_list = [(i/255.0, i/255.0, i/255.0) for i in range(256)]\n",
    "values_list = [i for i in range(256)]\n",
    "colors = ListedColormap(colors_list)\n",
    "\n",
    "# Plot the slice data with the customized color scheme\n",
    "print(\"After specifying the color scheme\")\n",
    "#extent is for resizing the axes and aspect is the ratio\n",
    "plt.imshow(slice_data, cmap=colors, vmin=0, vmax=2, extent=[Origin[1], Origin[1] + Spacing[1]*(dims[1]-1), Origin[2], Origin[2] + Spacing[2]*(dims[2]-1)], aspect=2) \n",
    "plt.colorbar()\n",
    "plt.show()"
   ]
  }
 ],
 "metadata": {
  "kernelspec": {
   "display_name": "Python 3",
   "language": "python",
   "name": "python3"
  },
  "language_info": {
   "codemirror_mode": {
    "name": "ipython",
    "version": 3
   },
   "file_extension": ".py",
   "mimetype": "text/x-python",
   "name": "python",
   "nbconvert_exporter": "python",
   "pygments_lexer": "ipython3",
   "version": "3.10.4"
  },
  "orig_nbformat": 4
 },
 "nbformat": 4,
 "nbformat_minor": 2
}
