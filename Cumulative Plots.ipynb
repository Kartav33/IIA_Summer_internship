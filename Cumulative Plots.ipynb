{
 "cells": [
  {
   "attachments": {},
   "cell_type": "markdown",
   "metadata": {},
   "source": [
    "Importing the required modules"
   ]
  },
  {
   "cell_type": "code",
   "execution_count": null,
   "metadata": {},
   "outputs": [],
   "source": [
    "import pandas as pd\n",
    "import numpy as np\n",
    "from matplotlib import pyplot as plt\n",
    "from scipy.interpolate import make_interp_spline\n",
    "from numpy.polynomial import Polynomial\n",
    "from scipy.optimize import curve_fit\n",
    "import sympy as sp"
   ]
  },
  {
   "attachments": {},
   "cell_type": "markdown",
   "metadata": {},
   "source": [
    "Reading it into python"
   ]
  },
  {
   "cell_type": "code",
   "execution_count": null,
   "metadata": {},
   "outputs": [],
   "source": [
    "data1=pd.read_excel(\"100G_lndem_3D data.xlsx\")\n",
    "df1=pd.DataFrame(data1)\n",
    "print(df1)\n",
    "data2=pd.read_excel(\"200G_lndem_3D data.xlsx\")\n",
    "df2=pd.DataFrame(data2)\n",
    "print(df2)\n",
    "data3=pd.read_excel(\"300G_lndem_3D data.xlsx\")\n",
    "df3=pd.DataFrame(data3)\n",
    "print(df3)"
   ]
  },
  {
   "cell_type": "code",
   "execution_count": null,
   "metadata": {},
   "outputs": [],
   "source": [
    "H_ind1=df1.loc[:,\"Height[i]\"]\n",
    "H_Mm1=df1.loc[:,\"Height (Mm)\"]\n",
    "nspic1=df1.loc[:,\"Spicules\"]\n",
    "H_ind2=df2.loc[:,\"Height[i]\"]\n",
    "H_Mm2=df2.loc[:,\"Height (Mm)\"]\n",
    "nspic2=df2.loc[:,\"Spicules\"]\n",
    "H_ind3=df3.loc[:,\"Height[i]\"]\n",
    "H_Mm3=df3.loc[:,\"Height (Mm)\"]\n",
    "nspic3=df3.loc[:,\"Spicules\"]"
   ]
  },
  {
   "attachments": {},
   "cell_type": "markdown",
   "metadata": {},
   "source": [
    "Changing the variables accroding to the definition"
   ]
  },
  {
   "cell_type": "code",
   "execution_count": null,
   "metadata": {},
   "outputs": [],
   "source": [
    "L_nspic1=[]\n",
    "\n",
    "for i in range(len(H_ind1)):\n",
    "    nspic_l=nspic1[0]-nspic1[i]\n",
    "    L_nspic1.append(nspic_l)\n",
    "    \n",
    "print(L_nspic1)\n",
    "\n",
    "L_nspic2=[]\n",
    "\n",
    "for i in range(len(H_ind2)):\n",
    "    nspic_l=nspic2[0]-nspic2[i]\n",
    "    L_nspic2.append(nspic_l)\n",
    "    \n",
    "print(L_nspic2)\n",
    "\n",
    "L_nspic3=[]\n",
    "\n",
    "for i in range(len(H_ind3)):\n",
    "    nspic_l=nspic3[0]-nspic3[i]\n",
    "    L_nspic3.append(nspic_l)\n",
    "    \n",
    "print(L_nspic3)"
   ]
  },
  {
   "cell_type": "code",
   "execution_count": null,
   "metadata": {},
   "outputs": [],
   "source": [
    "H_norm1=[]\n",
    "H_min1=np.min(H_Mm1)\n",
    "H_max1=np.max(H_Mm1)\n",
    "for i in range(0,len(H_ind1)):\n",
    "    normal_height=(H_Mm1[i]-H_min1)/(H_max1-H_min1)\n",
    "    H_norm1.append(normal_height)\n",
    "\n",
    "print(H_norm1)\n",
    "\n",
    "H_norm2=[]\n",
    "H_min2=np.min(H_Mm2)\n",
    "H_max2=np.max(H_Mm2)\n",
    "for i in range(0,len(H_ind2)):\n",
    "    normal_height=(H_Mm2[i]-H_min2)/(H_max2-H_min2)\n",
    "    H_norm2.append(normal_height)\n",
    "\n",
    "print(H_norm2)\n",
    "\n",
    "H_norm3=[]\n",
    "H_min3=np.min(H_Mm3)\n",
    "H_max3=np.max(H_Mm3)\n",
    "for i in range(0,len(H_ind3)):\n",
    "    normal_height=(H_Mm3[i]-H_min3)/(H_max3-H_min3)\n",
    "    H_norm3.append(normal_height)\n",
    "\n",
    "print(H_norm3)"
   ]
  },
  {
   "attachments": {},
   "cell_type": "markdown",
   "metadata": {},
   "source": [
    "Plotting the Cumulative CDF after normalising both variables"
   ]
  },
  {
   "cell_type": "code",
   "execution_count": null,
   "metadata": {},
   "outputs": [],
   "source": [
    "plt.scatter(H_norm1, L_nspic1/L_nspic1[len(H_ind1)-1], color='red', label= '100G')\n",
    "plt.scatter(H_norm2, L_nspic2/L_nspic2[len(H_ind2)-1], color='green', label=\"200G\")\n",
    "plt.scatter(H_norm3, L_nspic3/L_nspic3[len(H_ind3)-1], color='blue', label='300G')\n",
    "'''plt.xlim(-4.5, 0.5)\n",
    "plt.ylim(-4.5, 0.5)\n",
    "ticks=[-5,-4,-3,-2,-1,0,1]\n",
    "plt.xticks(ticks)\n",
    "plt.yticks(ticks)'''\n",
    "plt.title(\"Cumulative CDF (Both axes normalized)\", fontsize=15)\n",
    "plt.xlabel('x-axis (Normalized Height)', fontsize=15)\n",
    "plt.ylabel('y-axis (Normalized No of Spicules)', fontsize=15)\n",
    "plt.xticks(fontsize=12)\n",
    "plt.yticks(fontsize=12)\n",
    "plt.grid()\n",
    "plt.legend()\n",
    "plt.show()\n"
   ]
  },
  {
   "attachments": {},
   "cell_type": "markdown",
   "metadata": {},
   "source": [
    "Plotting the cumulative CDF after normalising both variables on a logarithmic scale "
   ]
  },
  {
   "cell_type": "code",
   "execution_count": null,
   "metadata": {},
   "outputs": [],
   "source": [
    "plt.scatter(np.log(H_norm1), np.log(L_nspic1/L_nspic1[len(H_ind1)-1]), color='red', label= '100G', s=10)\n",
    "plt.scatter(np.log(H_norm2), np.log(L_nspic2/L_nspic2[len(H_ind2)-1]), color='green', label=\"200G\", s=10)\n",
    "plt.scatter(np.log(H_norm3), np.log(L_nspic3/L_nspic3[len(H_ind3)-1]), color='blue', label='300G', s=10)\n",
    "plt.xlim(-4.5, 0.5)\n",
    "plt.ylim(-4.5, 0.5)\n",
    "plt.xticks(fontsize=12)\n",
    "plt.yticks(fontsize=12)\n",
    "plt.title(\"Cumulative CDF (Both axes normalized) in Log scale\", fontsize=15)\n",
    "plt.xlabel('log(x)(Normalized Height)',fontsize=15)\n",
    "plt.ylabel('log(y) (Normalized No of Spicules)', fontsize=15)\n",
    "plt.grid()\n",
    "plt.legend()\n",
    "plt.show()\n"
   ]
  },
  {
   "attachments": {},
   "cell_type": "markdown",
   "metadata": {},
   "source": [
    "Plotting the cumulative CDF after normalising both variables on a semi-logarithmic scale "
   ]
  },
  {
   "cell_type": "code",
   "execution_count": null,
   "metadata": {},
   "outputs": [],
   "source": [
    "plt.scatter(H_Mm1, np.log(L_nspic1/L_nspic1[len(H_ind1)-1]), color='red', label= '100G', s=6)\n",
    "plt.scatter(H_Mm2, np.log(L_nspic2/L_nspic2[len(H_ind2)-1]), color='green', label=\"200G\", s=6)\n",
    "plt.scatter(H_Mm3, np.log(L_nspic3/L_nspic3[len(H_ind3)-1]), color='blue', label='300G', s=6)\n",
    "plt.xlim(6, 28)\n",
    "plt.ylim(-4.5, 0.5)\n",
    "plt.title(\"Cumulative CDF (Y-axis normalized) in semi-log scale\",fontsize=15)\n",
    "plt.xlabel('x-axis (Original Heights)',fontsize=15)\n",
    "plt.ylabel('log(y) (Normalized No of Spicules)', fontsize=15)\n",
    "plt.xticks(fontsize=12)\n",
    "plt.yticks(fontsize=12)\n",
    "plt.grid()\n",
    "plt.legend()\n",
    "plt.show()"
   ]
  }
 ],
 "metadata": {
  "kernelspec": {
   "display_name": "Python 3",
   "language": "python",
   "name": "python3"
  },
  "language_info": {
   "codemirror_mode": {
    "name": "ipython",
    "version": 3
   },
   "file_extension": ".py",
   "mimetype": "text/x-python",
   "name": "python",
   "nbconvert_exporter": "python",
   "pygments_lexer": "ipython3",
   "version": "3.10.4"
  },
  "orig_nbformat": 4
 },
 "nbformat": 4,
 "nbformat_minor": 2
}
